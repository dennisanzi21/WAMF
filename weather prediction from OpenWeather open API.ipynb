{
 "cells": [
  {
   "cell_type": "code",
   "execution_count": 7,
   "id": "077bdfde",
   "metadata": {},
   "outputs": [
    {
     "name": "stdout",
     "output_type": "stream",
     "text": [
      "Enter the city name: kuching\n",
      "-------------------------------------------------------------\n",
      "Weather Stats for - KUCHING  || 13 Nov 2021 | 11:53:28 AM\n",
      "-------------------------------------------------------------\n",
      "Current temperature is: 28.12 deg C\n",
      "Current weather desc  : few clouds\n",
      "Current Humidity      : 78 %\n",
      "Current wind speed    : 1.54 kmph\n"
     ]
    }
   ],
   "source": [
    "\n",
    "import requests\n",
    "import os\n",
    "from datetime import datetime\n",
    "#user_api = os.environ['\tweather']\n",
    "user_api = '46eb4ea0e8fadb82e97f406034d68ce5'\n",
    "location = input(\"Enter the city name: \")\n",
    "\n",
    "complete_api_link = \"https://api.openweathermap.org/data/2.5/weather?q=\"+location+\"&appid=\"+user_api\n",
    "api_link = requests.get(complete_api_link)\n",
    "api_data = api_link.json()\n",
    "\n",
    "if api_data['cod'] == '404':\n",
    "    print(\"Invalid City: {}, Please check your City name\".format(location))\n",
    "else:\n",
    "    #create variables to store and display data\n",
    "    temp_city = ((api_data['main']['temp']) - 273.15)\n",
    "    weather_desc = api_data['weather'][0]['description']\n",
    "    hmdt = api_data['main']['humidity']\n",
    "    wind_spd = api_data['wind']['speed']\n",
    "    date_time = datetime.now().strftime(\"%d %b %Y | %I:%M:%S %p\")\n",
    "\n",
    "    print (\"-------------------------------------------------------------\")\n",
    "    print (\"Weather Stats for - {}  || {}\".format(location.upper(), date_time))\n",
    "    print (\"-------------------------------------------------------------\")\n",
    "\n",
    "    print (\"Current temperature is: {:.2f} deg C\".format(temp_city))\n",
    "    print (\"Current weather desc  :\",weather_desc)\n",
    "    print (\"Current Humidity      :\",hmdt, '%')\n",
    "    print (\"Current wind speed    :\",wind_spd ,'kmph')"
   ]
  },
  {
   "cell_type": "code",
   "execution_count": null,
   "id": "f1e9294a",
   "metadata": {},
   "outputs": [],
   "source": []
  }
 ],
 "metadata": {
  "kernelspec": {
   "display_name": "Python 3",
   "language": "python",
   "name": "python3"
  },
  "language_info": {
   "codemirror_mode": {
    "name": "ipython",
    "version": 3
   },
   "file_extension": ".py",
   "mimetype": "text/x-python",
   "name": "python",
   "nbconvert_exporter": "python",
   "pygments_lexer": "ipython3",
   "version": "3.8.8"
  }
 },
 "nbformat": 4,
 "nbformat_minor": 5
}
